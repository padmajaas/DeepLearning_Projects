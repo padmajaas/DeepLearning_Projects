{
 "cells": [
  {
   "cell_type": "code",
   "execution_count": 175,
   "metadata": {},
   "outputs": [],
   "source": [
    "import pandas as pd\n",
    "import numpy as np\n",
    "from sklearn.model_selection import train_test_split\n",
    "from zipfile import ZipFile\n",
    "from sklearn.feature_extraction.text import CountVectorizer\n",
    "from matplotlib import pyplot as plt\n",
    "import seaborn as sns"
   ]
  },
  {
   "cell_type": "code",
   "execution_count": null,
   "metadata": {},
   "outputs": [],
   "source": [
    "#file=r'/stacksample/stacksample.zip'"
   ]
  },
  {
   "cell_type": "code",
   "execution_count": null,
   "metadata": {},
   "outputs": [],
   "source": [
    "# with ZipFile(file, 'r') as zip: \n",
    "#     # printing all the contents of the zip file \n",
    "#     zip.printdir() \n",
    "    \n",
    "#     # extracting all the files \n",
    "#     print('Extracting all the files now...') \n",
    "#     zip.extractall() \n",
    "#     print('Done!') "
   ]
  },
  {
   "cell_type": "code",
   "execution_count": 176,
   "metadata": {},
   "outputs": [],
   "source": [
    "mcml_q= pd.read_csv(r\"D:/Padmaja/EdvancerClass/DeepLearning/Project 1 Multiclass MultiLabel Prediction for Stack overflow/stacksample/Questions.csv\",encoding='ISO-8859-1')\n",
    "mcml_t=pd.read_csv(r\"D:/Padmaja/EdvancerClass/DeepLearning/Project 1 Multiclass MultiLabel Prediction for Stack overflow/stacksample/Tags.csv\",encoding='ISO-8859-1')"
   ]
  },
  {
   "cell_type": "code",
   "execution_count": 177,
   "metadata": {},
   "outputs": [
    {
     "data": {
      "text/html": [
       "<div>\n",
       "<style scoped>\n",
       "    .dataframe tbody tr th:only-of-type {\n",
       "        vertical-align: middle;\n",
       "    }\n",
       "\n",
       "    .dataframe tbody tr th {\n",
       "        vertical-align: top;\n",
       "    }\n",
       "\n",
       "    .dataframe thead th {\n",
       "        text-align: right;\n",
       "    }\n",
       "</style>\n",
       "<table border=\"1\" class=\"dataframe\">\n",
       "  <thead>\n",
       "    <tr style=\"text-align: right;\">\n",
       "      <th></th>\n",
       "      <th>Id</th>\n",
       "      <th>OwnerUserId</th>\n",
       "      <th>CreationDate</th>\n",
       "      <th>ClosedDate</th>\n",
       "      <th>Score</th>\n",
       "      <th>Title</th>\n",
       "      <th>Body</th>\n",
       "    </tr>\n",
       "  </thead>\n",
       "  <tbody>\n",
       "    <tr>\n",
       "      <td>0</td>\n",
       "      <td>80</td>\n",
       "      <td>26.0</td>\n",
       "      <td>2008-08-01T13:57:07Z</td>\n",
       "      <td>NaN</td>\n",
       "      <td>26</td>\n",
       "      <td>SQLStatement.execute() - multiple queries in o...</td>\n",
       "      <td>&lt;p&gt;I've written a database generation script i...</td>\n",
       "    </tr>\n",
       "    <tr>\n",
       "      <td>1</td>\n",
       "      <td>90</td>\n",
       "      <td>58.0</td>\n",
       "      <td>2008-08-01T14:41:24Z</td>\n",
       "      <td>2012-12-26T03:45:49Z</td>\n",
       "      <td>144</td>\n",
       "      <td>Good branching and merging tutorials for Torto...</td>\n",
       "      <td>&lt;p&gt;Are there any really good tutorials explain...</td>\n",
       "    </tr>\n",
       "    <tr>\n",
       "      <td>2</td>\n",
       "      <td>120</td>\n",
       "      <td>83.0</td>\n",
       "      <td>2008-08-01T15:50:08Z</td>\n",
       "      <td>NaN</td>\n",
       "      <td>21</td>\n",
       "      <td>ASP.NET Site Maps</td>\n",
       "      <td>&lt;p&gt;Has anyone got experience creating &lt;strong&gt;...</td>\n",
       "    </tr>\n",
       "    <tr>\n",
       "      <td>3</td>\n",
       "      <td>180</td>\n",
       "      <td>2089740.0</td>\n",
       "      <td>2008-08-01T18:42:19Z</td>\n",
       "      <td>NaN</td>\n",
       "      <td>53</td>\n",
       "      <td>Function for creating color wheels</td>\n",
       "      <td>&lt;p&gt;This is something I've pseudo-solved many t...</td>\n",
       "    </tr>\n",
       "    <tr>\n",
       "      <td>4</td>\n",
       "      <td>260</td>\n",
       "      <td>91.0</td>\n",
       "      <td>2008-08-01T23:22:08Z</td>\n",
       "      <td>NaN</td>\n",
       "      <td>49</td>\n",
       "      <td>Adding scripting functionality to .NET applica...</td>\n",
       "      <td>&lt;p&gt;I have a little game written in C#. It uses...</td>\n",
       "    </tr>\n",
       "  </tbody>\n",
       "</table>\n",
       "</div>"
      ],
      "text/plain": [
       "    Id  OwnerUserId          CreationDate            ClosedDate  Score  \\\n",
       "0   80         26.0  2008-08-01T13:57:07Z                   NaN     26   \n",
       "1   90         58.0  2008-08-01T14:41:24Z  2012-12-26T03:45:49Z    144   \n",
       "2  120         83.0  2008-08-01T15:50:08Z                   NaN     21   \n",
       "3  180    2089740.0  2008-08-01T18:42:19Z                   NaN     53   \n",
       "4  260         91.0  2008-08-01T23:22:08Z                   NaN     49   \n",
       "\n",
       "                                               Title  \\\n",
       "0  SQLStatement.execute() - multiple queries in o...   \n",
       "1  Good branching and merging tutorials for Torto...   \n",
       "2                                  ASP.NET Site Maps   \n",
       "3                 Function for creating color wheels   \n",
       "4  Adding scripting functionality to .NET applica...   \n",
       "\n",
       "                                                Body  \n",
       "0  <p>I've written a database generation script i...  \n",
       "1  <p>Are there any really good tutorials explain...  \n",
       "2  <p>Has anyone got experience creating <strong>...  \n",
       "3  <p>This is something I've pseudo-solved many t...  \n",
       "4  <p>I have a little game written in C#. It uses...  "
      ]
     },
     "execution_count": 177,
     "metadata": {},
     "output_type": "execute_result"
    }
   ],
   "source": [
    "mcml_q.head()"
   ]
  },
  {
   "cell_type": "code",
   "execution_count": 178,
   "metadata": {},
   "outputs": [
    {
     "data": {
      "text/html": [
       "<div>\n",
       "<style scoped>\n",
       "    .dataframe tbody tr th:only-of-type {\n",
       "        vertical-align: middle;\n",
       "    }\n",
       "\n",
       "    .dataframe tbody tr th {\n",
       "        vertical-align: top;\n",
       "    }\n",
       "\n",
       "    .dataframe thead th {\n",
       "        text-align: right;\n",
       "    }\n",
       "</style>\n",
       "<table border=\"1\" class=\"dataframe\">\n",
       "  <thead>\n",
       "    <tr style=\"text-align: right;\">\n",
       "      <th></th>\n",
       "      <th>Id</th>\n",
       "      <th>Tag</th>\n",
       "    </tr>\n",
       "  </thead>\n",
       "  <tbody>\n",
       "    <tr>\n",
       "      <td>0</td>\n",
       "      <td>80</td>\n",
       "      <td>flex</td>\n",
       "    </tr>\n",
       "    <tr>\n",
       "      <td>1</td>\n",
       "      <td>80</td>\n",
       "      <td>actionscript-3</td>\n",
       "    </tr>\n",
       "    <tr>\n",
       "      <td>2</td>\n",
       "      <td>80</td>\n",
       "      <td>air</td>\n",
       "    </tr>\n",
       "    <tr>\n",
       "      <td>3</td>\n",
       "      <td>90</td>\n",
       "      <td>svn</td>\n",
       "    </tr>\n",
       "    <tr>\n",
       "      <td>4</td>\n",
       "      <td>90</td>\n",
       "      <td>tortoisesvn</td>\n",
       "    </tr>\n",
       "  </tbody>\n",
       "</table>\n",
       "</div>"
      ],
      "text/plain": [
       "   Id             Tag\n",
       "0  80            flex\n",
       "1  80  actionscript-3\n",
       "2  80             air\n",
       "3  90             svn\n",
       "4  90     tortoisesvn"
      ]
     },
     "execution_count": 178,
     "metadata": {},
     "output_type": "execute_result"
    }
   ],
   "source": [
    "mcml_t.head()"
   ]
  },
  {
   "cell_type": "code",
   "execution_count": 179,
   "metadata": {},
   "outputs": [
    {
     "data": {
      "text/plain": [
       "['javascript',\n",
       " 'java',\n",
       " 'c#',\n",
       " 'php',\n",
       " 'android',\n",
       " 'jquery',\n",
       " 'python',\n",
       " 'html',\n",
       " 'c++',\n",
       " 'ios']"
      ]
     },
     "execution_count": 179,
     "metadata": {},
     "output_type": "execute_result"
    }
   ],
   "source": [
    "tags_10=mcml_t['Tag'].value_counts()[:10].index.tolist()\n",
    "\n",
    "tags_10"
   ]
  },
  {
   "cell_type": "code",
   "execution_count": 180,
   "metadata": {},
   "outputs": [],
   "source": [
    "mcml_t10 = mcml_t[mcml_t['Tag'].isin(tags_10)]"
   ]
  },
  {
   "cell_type": "code",
   "execution_count": 181,
   "metadata": {},
   "outputs": [
    {
     "data": {
      "text/plain": [
       "Id     826739\n",
       "Tag    826739\n",
       "dtype: int64"
      ]
     },
     "execution_count": 181,
     "metadata": {},
     "output_type": "execute_result"
    }
   ],
   "source": [
    "mcml_t10.count()"
   ]
  },
  {
   "cell_type": "code",
   "execution_count": null,
   "metadata": {},
   "outputs": [],
   "source": []
  },
  {
   "cell_type": "code",
   "execution_count": 182,
   "metadata": {},
   "outputs": [],
   "source": [
    "mcml_t10 = mcml_t10.groupby('Id',as_index=False)['Tag'].agg((lambda x: x.tolist()))"
   ]
  },
  {
   "cell_type": "code",
   "execution_count": 183,
   "metadata": {},
   "outputs": [
    {
     "data": {
      "text/html": [
       "<div>\n",
       "<style scoped>\n",
       "    .dataframe tbody tr th:only-of-type {\n",
       "        vertical-align: middle;\n",
       "    }\n",
       "\n",
       "    .dataframe tbody tr th {\n",
       "        vertical-align: top;\n",
       "    }\n",
       "\n",
       "    .dataframe thead th {\n",
       "        text-align: right;\n",
       "    }\n",
       "</style>\n",
       "<table border=\"1\" class=\"dataframe\">\n",
       "  <thead>\n",
       "    <tr style=\"text-align: right;\">\n",
       "      <th></th>\n",
       "      <th>Id</th>\n",
       "      <th>Tag</th>\n",
       "    </tr>\n",
       "  </thead>\n",
       "  <tbody>\n",
       "    <tr>\n",
       "      <td>0</td>\n",
       "      <td>260</td>\n",
       "      <td>[c#]</td>\n",
       "    </tr>\n",
       "    <tr>\n",
       "      <td>1</td>\n",
       "      <td>330</td>\n",
       "      <td>[c++]</td>\n",
       "    </tr>\n",
       "    <tr>\n",
       "      <td>2</td>\n",
       "      <td>650</td>\n",
       "      <td>[c#]</td>\n",
       "    </tr>\n",
       "    <tr>\n",
       "      <td>3</td>\n",
       "      <td>930</td>\n",
       "      <td>[c#]</td>\n",
       "    </tr>\n",
       "    <tr>\n",
       "      <td>4</td>\n",
       "      <td>1010</td>\n",
       "      <td>[c#]</td>\n",
       "    </tr>\n",
       "  </tbody>\n",
       "</table>\n",
       "</div>"
      ],
      "text/plain": [
       "     Id    Tag\n",
       "0   260   [c#]\n",
       "1   330  [c++]\n",
       "2   650   [c#]\n",
       "3   930   [c#]\n",
       "4  1010   [c#]"
      ]
     },
     "execution_count": 183,
     "metadata": {},
     "output_type": "execute_result"
    }
   ],
   "source": [
    "mcml_t10.head()"
   ]
  },
  {
   "cell_type": "code",
   "execution_count": 184,
   "metadata": {},
   "outputs": [],
   "source": [
    "mcml_qt = pd.merge(mcml_q, mcml_t10, on='Id')"
   ]
  },
  {
   "cell_type": "code",
   "execution_count": 185,
   "metadata": {
    "scrolled": true
   },
   "outputs": [
    {
     "data": {
      "text/html": [
       "<div>\n",
       "<style scoped>\n",
       "    .dataframe tbody tr th:only-of-type {\n",
       "        vertical-align: middle;\n",
       "    }\n",
       "\n",
       "    .dataframe tbody tr th {\n",
       "        vertical-align: top;\n",
       "    }\n",
       "\n",
       "    .dataframe thead th {\n",
       "        text-align: right;\n",
       "    }\n",
       "</style>\n",
       "<table border=\"1\" class=\"dataframe\">\n",
       "  <thead>\n",
       "    <tr style=\"text-align: right;\">\n",
       "      <th></th>\n",
       "      <th>Id</th>\n",
       "      <th>OwnerUserId</th>\n",
       "      <th>CreationDate</th>\n",
       "      <th>ClosedDate</th>\n",
       "      <th>Score</th>\n",
       "      <th>Title</th>\n",
       "      <th>Body</th>\n",
       "      <th>Tag</th>\n",
       "    </tr>\n",
       "  </thead>\n",
       "  <tbody>\n",
       "    <tr>\n",
       "      <td>6050</td>\n",
       "      <td>877570</td>\n",
       "      <td>76393.0</td>\n",
       "      <td>2009-05-18T12:50:19Z</td>\n",
       "      <td>NaN</td>\n",
       "      <td>16</td>\n",
       "      <td>Java: Getting resolutions of one/all available...</td>\n",
       "      <td>&lt;p&gt;I have two different-sized monitors, connec...</td>\n",
       "      <td>[java]</td>\n",
       "    </tr>\n",
       "    <tr>\n",
       "      <td>6051</td>\n",
       "      <td>877820</td>\n",
       "      <td>NaN</td>\n",
       "      <td>2009-05-18T13:46:48Z</td>\n",
       "      <td>NaN</td>\n",
       "      <td>1</td>\n",
       "      <td>CRSAPKCS1v15Encryptor class not found when com...</td>\n",
       "      <td>&lt;p&gt;I have written code in symbian c++ but i fa...</td>\n",
       "      <td>[c++]</td>\n",
       "    </tr>\n",
       "    <tr>\n",
       "      <td>6052</td>\n",
       "      <td>878010</td>\n",
       "      <td>243.0</td>\n",
       "      <td>2009-05-18T14:22:26Z</td>\n",
       "      <td>NaN</td>\n",
       "      <td>6</td>\n",
       "      <td>Programatically install Certificate Revocation...</td>\n",
       "      <td>&lt;p&gt;I need to download and install about 50 CRL...</td>\n",
       "      <td>[c#]</td>\n",
       "    </tr>\n",
       "    <tr>\n",
       "      <td>6053</td>\n",
       "      <td>878090</td>\n",
       "      <td>64106.0</td>\n",
       "      <td>2009-05-18T14:40:22Z</td>\n",
       "      <td>NaN</td>\n",
       "      <td>1</td>\n",
       "      <td>regular expression (javascript) How to match a...</td>\n",
       "      <td>&lt;p&gt;I'm trying to find all occurrences of items...</td>\n",
       "      <td>[javascript]</td>\n",
       "    </tr>\n",
       "    <tr>\n",
       "      <td>6054</td>\n",
       "      <td>878200</td>\n",
       "      <td>2828.0</td>\n",
       "      <td>2009-05-18T15:07:24Z</td>\n",
       "      <td>2013-08-13T13:53:19Z</td>\n",
       "      <td>17</td>\n",
       "      <td>Java curve fitting library</td>\n",
       "      <td>&lt;p&gt;I'm hoping to find a simple library that ca...</td>\n",
       "      <td>[java]</td>\n",
       "    </tr>\n",
       "    <tr>\n",
       "      <td>6055</td>\n",
       "      <td>878450</td>\n",
       "      <td>108876.0</td>\n",
       "      <td>2009-05-18T15:58:42Z</td>\n",
       "      <td>NaN</td>\n",
       "      <td>0</td>\n",
       "      <td>WMS authentication plugin</td>\n",
       "      <td>&lt;p&gt;I'm trying to create a custom authenticatio...</td>\n",
       "      <td>[c#]</td>\n",
       "    </tr>\n",
       "    <tr>\n",
       "      <td>6056</td>\n",
       "      <td>878650</td>\n",
       "      <td>56509.0</td>\n",
       "      <td>2009-05-18T16:47:52Z</td>\n",
       "      <td>NaN</td>\n",
       "      <td>51</td>\n",
       "      <td>Explanation of Func</td>\n",
       "      <td>&lt;p&gt;I was wondering if someone could explain wh...</td>\n",
       "      <td>[c#]</td>\n",
       "    </tr>\n",
       "    <tr>\n",
       "      <td>6057</td>\n",
       "      <td>878710</td>\n",
       "      <td>76682.0</td>\n",
       "      <td>2009-05-18T16:58:22Z</td>\n",
       "      <td>NaN</td>\n",
       "      <td>30</td>\n",
       "      <td>Is a Modal Confirm Box Using JQuery Possible?</td>\n",
       "      <td>&lt;p&gt;Looked around quite a bit, and can't seem t...</td>\n",
       "      <td>[javascript, jquery]</td>\n",
       "    </tr>\n",
       "    <tr>\n",
       "      <td>6058</td>\n",
       "      <td>878900</td>\n",
       "      <td>34806.0</td>\n",
       "      <td>2009-05-18T17:35:51Z</td>\n",
       "      <td>NaN</td>\n",
       "      <td>0</td>\n",
       "      <td>Hibernate for getting a list of primitive inte...</td>\n",
       "      <td>&lt;p&gt;Isn't there a way with Hibernate to return ...</td>\n",
       "      <td>[java]</td>\n",
       "    </tr>\n",
       "    <tr>\n",
       "      <td>6059</td>\n",
       "      <td>878960</td>\n",
       "      <td>20126.0</td>\n",
       "      <td>2009-05-18T17:47:33Z</td>\n",
       "      <td>NaN</td>\n",
       "      <td>3</td>\n",
       "      <td>Why put search input inside a form tag?</td>\n",
       "      <td>&lt;p&gt;I found that SO put the search input inside...</td>\n",
       "      <td>[html]</td>\n",
       "    </tr>\n",
       "  </tbody>\n",
       "</table>\n",
       "</div>"
      ],
      "text/plain": [
       "          Id  OwnerUserId          CreationDate            ClosedDate  Score  \\\n",
       "6050  877570      76393.0  2009-05-18T12:50:19Z                   NaN     16   \n",
       "6051  877820          NaN  2009-05-18T13:46:48Z                   NaN      1   \n",
       "6052  878010        243.0  2009-05-18T14:22:26Z                   NaN      6   \n",
       "6053  878090      64106.0  2009-05-18T14:40:22Z                   NaN      1   \n",
       "6054  878200       2828.0  2009-05-18T15:07:24Z  2013-08-13T13:53:19Z     17   \n",
       "6055  878450     108876.0  2009-05-18T15:58:42Z                   NaN      0   \n",
       "6056  878650      56509.0  2009-05-18T16:47:52Z                   NaN     51   \n",
       "6057  878710      76682.0  2009-05-18T16:58:22Z                   NaN     30   \n",
       "6058  878900      34806.0  2009-05-18T17:35:51Z                   NaN      0   \n",
       "6059  878960      20126.0  2009-05-18T17:47:33Z                   NaN      3   \n",
       "\n",
       "                                                  Title  \\\n",
       "6050  Java: Getting resolutions of one/all available...   \n",
       "6051  CRSAPKCS1v15Encryptor class not found when com...   \n",
       "6052  Programatically install Certificate Revocation...   \n",
       "6053  regular expression (javascript) How to match a...   \n",
       "6054                         Java curve fitting library   \n",
       "6055                          WMS authentication plugin   \n",
       "6056                                Explanation of Func   \n",
       "6057      Is a Modal Confirm Box Using JQuery Possible?   \n",
       "6058  Hibernate for getting a list of primitive inte...   \n",
       "6059            Why put search input inside a form tag?   \n",
       "\n",
       "                                                   Body                   Tag  \n",
       "6050  <p>I have two different-sized monitors, connec...                [java]  \n",
       "6051  <p>I have written code in symbian c++ but i fa...                 [c++]  \n",
       "6052  <p>I need to download and install about 50 CRL...                  [c#]  \n",
       "6053  <p>I'm trying to find all occurrences of items...          [javascript]  \n",
       "6054  <p>I'm hoping to find a simple library that ca...                [java]  \n",
       "6055  <p>I'm trying to create a custom authenticatio...                  [c#]  \n",
       "6056  <p>I was wondering if someone could explain wh...                  [c#]  \n",
       "6057  <p>Looked around quite a bit, and can't seem t...  [javascript, jquery]  \n",
       "6058  <p>Isn't there a way with Hibernate to return ...                [java]  \n",
       "6059  <p>I found that SO put the search input inside...                [html]  "
      ]
     },
     "execution_count": 185,
     "metadata": {},
     "output_type": "execute_result"
    }
   ],
   "source": [
    "mcml_qt.iloc[6050:6060]\n"
   ]
  },
  {
   "cell_type": "code",
   "execution_count": 186,
   "metadata": {},
   "outputs": [
    {
     "data": {
      "text/html": [
       "<div>\n",
       "<style scoped>\n",
       "    .dataframe tbody tr th:only-of-type {\n",
       "        vertical-align: middle;\n",
       "    }\n",
       "\n",
       "    .dataframe tbody tr th {\n",
       "        vertical-align: top;\n",
       "    }\n",
       "\n",
       "    .dataframe thead th {\n",
       "        text-align: right;\n",
       "    }\n",
       "</style>\n",
       "<table border=\"1\" class=\"dataframe\">\n",
       "  <thead>\n",
       "    <tr style=\"text-align: right;\">\n",
       "      <th></th>\n",
       "      <th>Id</th>\n",
       "      <th>OwnerUserId</th>\n",
       "      <th>CreationDate</th>\n",
       "      <th>ClosedDate</th>\n",
       "      <th>Score</th>\n",
       "      <th>Title</th>\n",
       "      <th>Body</th>\n",
       "      <th>Tag</th>\n",
       "    </tr>\n",
       "  </thead>\n",
       "  <tbody>\n",
       "    <tr>\n",
       "      <td>706331</td>\n",
       "      <td>40143150</td>\n",
       "      <td>5496690.0</td>\n",
       "      <td>2016-10-19T23:31:41Z</td>\n",
       "      <td>NaN</td>\n",
       "      <td>0</td>\n",
       "      <td>YouTube iFrame API: no ready call, no error call</td>\n",
       "      <td>&lt;p&gt;I'm trying to detect the \"flash out of date...</td>\n",
       "      <td>[javascript]</td>\n",
       "    </tr>\n",
       "    <tr>\n",
       "      <td>706332</td>\n",
       "      <td>40143190</td>\n",
       "      <td>333403.0</td>\n",
       "      <td>2016-10-19T23:36:01Z</td>\n",
       "      <td>NaN</td>\n",
       "      <td>1</td>\n",
       "      <td>How to execute multiline python code from a ba...</td>\n",
       "      <td>&lt;p&gt;I need to extend a shell script (bash). As ...</td>\n",
       "      <td>[python]</td>\n",
       "    </tr>\n",
       "    <tr>\n",
       "      <td>706333</td>\n",
       "      <td>40143210</td>\n",
       "      <td>5610777.0</td>\n",
       "      <td>2016-10-19T23:38:01Z</td>\n",
       "      <td>NaN</td>\n",
       "      <td>0</td>\n",
       "      <td>URL routing in PHP (MVC)</td>\n",
       "      <td>&lt;p&gt;I am building a custom MVC project and I ha...</td>\n",
       "      <td>[php]</td>\n",
       "    </tr>\n",
       "    <tr>\n",
       "      <td>706334</td>\n",
       "      <td>40143340</td>\n",
       "      <td>7028647.0</td>\n",
       "      <td>2016-10-19T23:52:50Z</td>\n",
       "      <td>NaN</td>\n",
       "      <td>1</td>\n",
       "      <td>Obfuscating code in android studio</td>\n",
       "      <td>&lt;p&gt;Under minifyEnabled I changed from false to...</td>\n",
       "      <td>[android]</td>\n",
       "    </tr>\n",
       "    <tr>\n",
       "      <td>706335</td>\n",
       "      <td>40143360</td>\n",
       "      <td>871677.0</td>\n",
       "      <td>2016-10-19T23:55:24Z</td>\n",
       "      <td>NaN</td>\n",
       "      <td>0</td>\n",
       "      <td>How to fire function after v-model change?</td>\n",
       "      <td>&lt;p&gt;I have input which I use to filter my array...</td>\n",
       "      <td>[javascript]</td>\n",
       "    </tr>\n",
       "  </tbody>\n",
       "</table>\n",
       "</div>"
      ],
      "text/plain": [
       "              Id  OwnerUserId          CreationDate ClosedDate  Score  \\\n",
       "706331  40143150    5496690.0  2016-10-19T23:31:41Z        NaN      0   \n",
       "706332  40143190     333403.0  2016-10-19T23:36:01Z        NaN      1   \n",
       "706333  40143210    5610777.0  2016-10-19T23:38:01Z        NaN      0   \n",
       "706334  40143340    7028647.0  2016-10-19T23:52:50Z        NaN      1   \n",
       "706335  40143360     871677.0  2016-10-19T23:55:24Z        NaN      0   \n",
       "\n",
       "                                                    Title  \\\n",
       "706331   YouTube iFrame API: no ready call, no error call   \n",
       "706332  How to execute multiline python code from a ba...   \n",
       "706333                           URL routing in PHP (MVC)   \n",
       "706334                 Obfuscating code in android studio   \n",
       "706335         How to fire function after v-model change?   \n",
       "\n",
       "                                                     Body           Tag  \n",
       "706331  <p>I'm trying to detect the \"flash out of date...  [javascript]  \n",
       "706332  <p>I need to extend a shell script (bash). As ...      [python]  \n",
       "706333  <p>I am building a custom MVC project and I ha...         [php]  \n",
       "706334  <p>Under minifyEnabled I changed from false to...     [android]  \n",
       "706335  <p>I have input which I use to filter my array...  [javascript]  "
      ]
     },
     "execution_count": 186,
     "metadata": {},
     "output_type": "execute_result"
    }
   ],
   "source": [
    "mcml_qt.tail()"
   ]
  },
  {
   "cell_type": "markdown",
   "metadata": {},
   "source": [
    "### Tags Analysis:"
   ]
  },
  {
   "cell_type": "code",
   "execution_count": null,
   "metadata": {},
   "outputs": [],
   "source": []
  },
  {
   "cell_type": "code",
   "execution_count": 187,
   "metadata": {},
   "outputs": [],
   "source": [
    "mcml_qt['Tag'] = mcml_qt['Tag'].apply(lambda x: ','.join(map(str, x)))"
   ]
  },
  {
   "cell_type": "code",
   "execution_count": null,
   "metadata": {},
   "outputs": [],
   "source": []
  },
  {
   "cell_type": "code",
   "execution_count": 188,
   "metadata": {},
   "outputs": [
    {
     "data": {
      "text/html": [
       "<div>\n",
       "<style scoped>\n",
       "    .dataframe tbody tr th:only-of-type {\n",
       "        vertical-align: middle;\n",
       "    }\n",
       "\n",
       "    .dataframe tbody tr th {\n",
       "        vertical-align: top;\n",
       "    }\n",
       "\n",
       "    .dataframe thead th {\n",
       "        text-align: right;\n",
       "    }\n",
       "</style>\n",
       "<table border=\"1\" class=\"dataframe\">\n",
       "  <thead>\n",
       "    <tr style=\"text-align: right;\">\n",
       "      <th></th>\n",
       "      <th>Id</th>\n",
       "      <th>OwnerUserId</th>\n",
       "      <th>CreationDate</th>\n",
       "      <th>ClosedDate</th>\n",
       "      <th>Score</th>\n",
       "      <th>Title</th>\n",
       "      <th>Body</th>\n",
       "      <th>Tag</th>\n",
       "    </tr>\n",
       "  </thead>\n",
       "  <tbody>\n",
       "    <tr>\n",
       "      <td>0</td>\n",
       "      <td>260</td>\n",
       "      <td>91.0</td>\n",
       "      <td>2008-08-01T23:22:08Z</td>\n",
       "      <td>NaN</td>\n",
       "      <td>49</td>\n",
       "      <td>Adding scripting functionality to .NET applica...</td>\n",
       "      <td>&lt;p&gt;I have a little game written in C#. It uses...</td>\n",
       "      <td>c#</td>\n",
       "    </tr>\n",
       "    <tr>\n",
       "      <td>1</td>\n",
       "      <td>330</td>\n",
       "      <td>63.0</td>\n",
       "      <td>2008-08-02T02:51:36Z</td>\n",
       "      <td>NaN</td>\n",
       "      <td>29</td>\n",
       "      <td>Should I use nested classes in this case?</td>\n",
       "      <td>&lt;p&gt;I am working on a collection of classes use...</td>\n",
       "      <td>c++</td>\n",
       "    </tr>\n",
       "    <tr>\n",
       "      <td>2</td>\n",
       "      <td>650</td>\n",
       "      <td>143.0</td>\n",
       "      <td>2008-08-03T11:12:52Z</td>\n",
       "      <td>NaN</td>\n",
       "      <td>79</td>\n",
       "      <td>Automatically update version number</td>\n",
       "      <td>&lt;p&gt;I would like the version property of my app...</td>\n",
       "      <td>c#</td>\n",
       "    </tr>\n",
       "    <tr>\n",
       "      <td>3</td>\n",
       "      <td>930</td>\n",
       "      <td>245.0</td>\n",
       "      <td>2008-08-04T00:47:25Z</td>\n",
       "      <td>NaN</td>\n",
       "      <td>28</td>\n",
       "      <td>How do I connect to a database and loop over a...</td>\n",
       "      <td>&lt;p&gt;What's the simplest way to connect and quer...</td>\n",
       "      <td>c#</td>\n",
       "    </tr>\n",
       "    <tr>\n",
       "      <td>4</td>\n",
       "      <td>1010</td>\n",
       "      <td>67.0</td>\n",
       "      <td>2008-08-04T03:59:42Z</td>\n",
       "      <td>NaN</td>\n",
       "      <td>14</td>\n",
       "      <td>How to get the value of built, encoded ViewState?</td>\n",
       "      <td>&lt;p&gt;I need to grab the base64-encoded represent...</td>\n",
       "      <td>c#</td>\n",
       "    </tr>\n",
       "  </tbody>\n",
       "</table>\n",
       "</div>"
      ],
      "text/plain": [
       "     Id  OwnerUserId          CreationDate ClosedDate  Score  \\\n",
       "0   260         91.0  2008-08-01T23:22:08Z        NaN     49   \n",
       "1   330         63.0  2008-08-02T02:51:36Z        NaN     29   \n",
       "2   650        143.0  2008-08-03T11:12:52Z        NaN     79   \n",
       "3   930        245.0  2008-08-04T00:47:25Z        NaN     28   \n",
       "4  1010         67.0  2008-08-04T03:59:42Z        NaN     14   \n",
       "\n",
       "                                               Title  \\\n",
       "0  Adding scripting functionality to .NET applica...   \n",
       "1          Should I use nested classes in this case?   \n",
       "2                Automatically update version number   \n",
       "3  How do I connect to a database and loop over a...   \n",
       "4  How to get the value of built, encoded ViewState?   \n",
       "\n",
       "                                                Body  Tag  \n",
       "0  <p>I have a little game written in C#. It uses...   c#  \n",
       "1  <p>I am working on a collection of classes use...  c++  \n",
       "2  <p>I would like the version property of my app...   c#  \n",
       "3  <p>What's the simplest way to connect and quer...   c#  \n",
       "4  <p>I need to grab the base64-encoded represent...   c#  "
      ]
     },
     "execution_count": 188,
     "metadata": {},
     "output_type": "execute_result"
    }
   ],
   "source": [
    "mcml_qt.head()"
   ]
  },
  {
   "cell_type": "code",
   "execution_count": 189,
   "metadata": {},
   "outputs": [],
   "source": [
    "# Total number of unique tags:\n",
    "\n",
    "vector_tags = CountVectorizer(tokenizer = lambda x:x.split())\n",
    "tag_dtm = vector_tags.fit_transform(mcml_qt['Tag'])"
   ]
  },
  {
   "cell_type": "code",
   "execution_count": 190,
   "metadata": {},
   "outputs": [
    {
     "name": "stdout",
     "output_type": "stream",
     "text": [
      "Number of unique tags are  284\n"
     ]
    }
   ],
   "source": [
    "print(\"Number of unique tags are \", tag_dtm.shape[1])"
   ]
  },
  {
   "cell_type": "code",
   "execution_count": 191,
   "metadata": {},
   "outputs": [
    {
     "name": "stdout",
     "output_type": "stream",
     "text": [
      "Some of the Tags are:  ['android', 'android,c++', 'android,c++,ios', 'android,html', 'android,html,ios', 'android,ios', 'android,java', 'android,jquery', 'android,jquery,html', 'android,jquery,html,ios']\n"
     ]
    }
   ],
   "source": [
    "tag=vector_tags.get_feature_names()\n",
    "print(\"Some of the Tags are: \",tag[:10])\n"
   ]
  },
  {
   "cell_type": "markdown",
   "metadata": {},
   "source": [
    "#### Number of times tag appeared:"
   ]
  },
  {
   "cell_type": "code",
   "execution_count": 192,
   "metadata": {},
   "outputs": [],
   "source": [
    "freqs = tag_dtm.sum(axis=0).A1\n",
    "result=dict(zip(tag,freqs))"
   ]
  },
  {
   "cell_type": "code",
   "execution_count": 193,
   "metadata": {},
   "outputs": [],
   "source": [
    "result_count=pd.DataFrame(result.items(),columns=['Tag','Count'])"
   ]
  },
  {
   "cell_type": "code",
   "execution_count": 194,
   "metadata": {},
   "outputs": [
    {
     "data": {
      "text/html": [
       "<div>\n",
       "<style scoped>\n",
       "    .dataframe tbody tr th:only-of-type {\n",
       "        vertical-align: middle;\n",
       "    }\n",
       "\n",
       "    .dataframe tbody tr th {\n",
       "        vertical-align: top;\n",
       "    }\n",
       "\n",
       "    .dataframe thead th {\n",
       "        text-align: right;\n",
       "    }\n",
       "</style>\n",
       "<table border=\"1\" class=\"dataframe\">\n",
       "  <thead>\n",
       "    <tr style=\"text-align: right;\">\n",
       "      <th></th>\n",
       "      <th>Tag</th>\n",
       "      <th>Count</th>\n",
       "    </tr>\n",
       "  </thead>\n",
       "  <tbody>\n",
       "    <tr>\n",
       "      <td>0</td>\n",
       "      <td>android</td>\n",
       "      <td>70343</td>\n",
       "    </tr>\n",
       "    <tr>\n",
       "      <td>1</td>\n",
       "      <td>android,c++</td>\n",
       "      <td>259</td>\n",
       "    </tr>\n",
       "    <tr>\n",
       "      <td>2</td>\n",
       "      <td>android,c++,ios</td>\n",
       "      <td>15</td>\n",
       "    </tr>\n",
       "    <tr>\n",
       "      <td>3</td>\n",
       "      <td>android,html</td>\n",
       "      <td>334</td>\n",
       "    </tr>\n",
       "    <tr>\n",
       "      <td>4</td>\n",
       "      <td>android,html,ios</td>\n",
       "      <td>16</td>\n",
       "    </tr>\n",
       "  </tbody>\n",
       "</table>\n",
       "</div>"
      ],
      "text/plain": [
       "                Tag  Count\n",
       "0           android  70343\n",
       "1       android,c++    259\n",
       "2   android,c++,ios     15\n",
       "3      android,html    334\n",
       "4  android,html,ios     16"
      ]
     },
     "execution_count": 194,
     "metadata": {},
     "output_type": "execute_result"
    }
   ],
   "source": [
    "result_count.head()"
   ]
  },
  {
   "cell_type": "code",
   "execution_count": 195,
   "metadata": {},
   "outputs": [],
   "source": [
    "tag_df_sorted=result_count.sort_values(['Count'],ascending=False)\n",
    "tag_counts=tag_df_sorted['Count'].values\n"
   ]
  },
  {
   "cell_type": "code",
   "execution_count": 196,
   "metadata": {},
   "outputs": [
    {
     "data": {
      "image/png": "[encoded data removed]",
      "text/plain": [
       "<Figure size 432x288 with 1 Axes>"
      ]
     },
     "metadata": {
      "needs_background": "light"
     },
     "output_type": "display_data"
    }
   ],
   "source": [
    "plt.plot(tag_counts)\n",
    "plt.title(\"Distribution of number of times Tag appeared questions\")\n",
    "plt.grid()\n",
    "plt.xlabel(\"Tag number\")\n",
    "plt.ylabel(\"Number of times tag appeared\")\n",
    "plt.show()"
   ]
  },
  {
   "cell_type": "markdown",
   "metadata": {},
   "source": [
    "#### First 100 Tags distribution"
   ]
  },
  {
   "cell_type": "code",
   "execution_count": 197,
   "metadata": {},
   "outputs": [
    {
     "data": {
      "image/png": "[encoded data removed]",
      "text/plain": [
       "<Figure size 432x288 with 1 Axes>"
      ]
     },
     "metadata": {
      "needs_background": "light"
     },
     "output_type": "display_data"
    },
    {
     "name": "stdout",
     "output_type": "stream",
     "text": [
      "20 [95406 61719 23205  4181   877   722   668   450   370   260   230   196\n",
      "   142   104    81    67    56    37    29    23]\n"
     ]
    }
   ],
   "source": [
    "\n",
    "plt.plot(tag_counts[0:100],c='b')\n",
    "plt.scatter(x=list(range(0,100,5)),y=tag_counts[0:100:5], c='orange', label=\"Quantiles with 0.05 intervals\")\n",
    "# Quantiles with 0.25 Intervals\n",
    "plt.scatter(x=list(range(0,100,25)),y=tag_counts[0:100:25], c='m', label=\"Quantiles with 0.25 intervals\")\n",
    "\n",
    "for x,y in zip(list(range(0,100,25)), tag_counts[0:100:25]):\n",
    "    plt.annotate(s=\"({},{})\".format(x,y),xy=(x,y), xytext=(x-0.05,y+500))\n",
    "plt.title(\"first 100 tags:Distribution of number of times Tag appeared questions\")\n",
    "plt.grid()\n",
    "plt.xlabel(\"Tag number\")\n",
    "plt.ylabel(\"Number of times tag appeared\")\n",
    "plt.legend()\n",
    "plt.show()\n",
    "print(len(tag_counts[0:100:5]),tag_counts[0:100:5])"
   ]
  },
  {
   "cell_type": "markdown",
   "metadata": {},
   "source": [
    "#### Generating WordCloud:"
   ]
  },
  {
   "cell_type": "code",
   "execution_count": null,
   "metadata": {},
   "outputs": [],
   "source": [
    "#!pip install wordcloud"
   ]
  },
  {
   "cell_type": "code",
   "execution_count": 198,
   "metadata": {},
   "outputs": [],
   "source": [
    "import nltk\n",
    "from wordcloud import WordCloud"
   ]
  },
  {
   "cell_type": "code",
   "execution_count": 199,
   "metadata": {},
   "outputs": [],
   "source": [
    "all_tags=' '.join(result_count['Tag'])"
   ]
  },
  {
   "cell_type": "code",
   "execution_count": 200,
   "metadata": {},
   "outputs": [
    {
     "data": {
      "text/plain": [
       "(-0.5, 399.5, 199.5, -0.5)"
      ]
     },
     "execution_count": 200,
     "metadata": {},
     "output_type": "execute_result"
    },
    {
     "data": {
      "image/png": "[encoded data removed]",
      "text/plain": [
       "<Figure size 432x288 with 1 Axes>"
      ]
     },
     "metadata": {
      "needs_background": "light"
     },
     "output_type": "display_data"
    }
   ],
   "source": [
    "wordcloud = WordCloud().generate(all_tags)\n",
    "plt.imshow(wordcloud, interpolation='bilinear')\n",
    "plt.axis(\"off\")"
   ]
  },
  {
   "cell_type": "markdown",
   "metadata": {},
   "source": [
    "#### Tags per question:"
   ]
  },
  {
   "cell_type": "code",
   "execution_count": 201,
   "metadata": {},
   "outputs": [
    {
     "data": {
      "text/plain": [
       "<matplotlib.axes._subplots.AxesSubplot at 0x25af79c5a88>"
      ]
     },
     "execution_count": 201,
     "metadata": {},
     "output_type": "execute_result"
    },
    {
     "data": {
      "image/png": "[encoded data removed]",
      "text/plain": [
       "<Figure size 432x288 with 1 Axes>"
      ]
     },
     "metadata": {
      "needs_background": "light"
     },
     "output_type": "display_data"
    }
   ],
   "source": [
    "mcml_qt['tag_count']=mcml_qt['Tag'].apply(lambda x:len(x.split(',')))\n",
    "sns.countplot(x=mcml_qt['tag_count'], data=mcml_qt)"
   ]
  },
  {
   "cell_type": "code",
   "execution_count": 202,
   "metadata": {},
   "outputs": [],
   "source": [
    "import re\n"
   ]
  },
  {
   "cell_type": "code",
   "execution_count": 147,
   "metadata": {},
   "outputs": [
    {
     "name": "stdout",
     "output_type": "stream",
     "text": [
      "Requirement already satisfied: snowballstemmer in c:\\users\\datta\\anaconda3\\lib\\site-packages (2.0.0)\n"
     ]
    }
   ],
   "source": [
    "!pip install snowballstemmer"
   ]
  },
  {
   "cell_type": "code",
   "execution_count": 203,
   "metadata": {},
   "outputs": [],
   "source": [
    "from nltk.stem import SnowballStemmer"
   ]
  },
  {
   "cell_type": "code",
   "execution_count": 221,
   "metadata": {},
   "outputs": [],
   "source": [
    "def striphtml(data):\n",
    "    pat=r\"<.*?>\"\n",
    "    \n",
    "    data['Question']=data['Question'].str.replace(pat,\"\")\n",
    "    return"
   ]
  },
  {
   "cell_type": "code",
   "execution_count": 205,
   "metadata": {},
   "outputs": [],
   "source": [
    "def preprocess(x):\n",
    "    x=str(x).lower()\n",
    "    x=x.replace(\"`\",\"'\").replace(\"won't\",\"will not\").replace(\"cannot\",\"can not\").replace(\"can't\",\"can not\").replace(\"n't\",\" not\")\\\n",
    "                        .replace(\"what's\",\"what is\").replace(\"it's\",\"it is\").replace(\"'ve\",\" have\").replace(\"i'm\",\"i am\").replace(\"'re\",\" are\")\\\n",
    "                        .replace(\"he's\",\"he is\").replace(\"she's\",\"she is\").replace(\"'s\",\" own\").replace(\"'ll\",\" will\")\n",
    "    \n",
    "    stop = set(stopwords.words(\"english\"))\n",
    "    snow = SnowballStemmer(\"english\")\n",
    "    doc= \" \".join(snow.stem(word) for word in x.split() if not word in stop and (len(word) !=1 or word == \"c\"))\n",
    "    return doc\n",
    "    "
   ]
  },
  {
   "cell_type": "code",
   "execution_count": 206,
   "metadata": {},
   "outputs": [],
   "source": [
    "def cleanpunc(sentence):\n",
    "    cleaned=re.sub(r'[?|!|\\'|\"]',r'',sentence)\n",
    "    cleaned=re.sub(r'[.|,|)|(|\\|/]',r' ',cleaned)\n",
    "    return cleaned"
   ]
  },
  {
   "cell_type": "code",
   "execution_count": 207,
   "metadata": {},
   "outputs": [],
   "source": [
    "def cleanlink(sentence):\n",
    "    sent = re.sub(r'^https?:\\/\\/.*[\\r\\n]*','',sentence,flags=re.MULTILINE)\n",
    "    return sent"
   ]
  },
  {
   "cell_type": "code",
   "execution_count": 208,
   "metadata": {},
   "outputs": [],
   "source": [
    "from nltk.stem.wordnet import WordNetLemmatizer\n",
    "from nltk.corpus import stopwords\n",
    "from string import punctuation\n",
    "from nltk.tokenize import word_tokenize\n",
    "lemma = WordNetLemmatizer()\n",
    "my_stop=set(stopwords.words('english')+list(punctuation))"
   ]
  },
  {
   "cell_type": "code",
   "execution_count": 145,
   "metadata": {},
   "outputs": [],
   "source": [
    "# def preprocess_all(message):\n",
    "#     message=preprocess(message)\n",
    "#     message=cleanpunc(message)\n",
    "#     message=cleanlink(message)\n",
    "#     message=striphtml(message)\n",
    "    \n",
    "#     return message"
   ]
  },
  {
   "cell_type": "code",
   "execution_count": 209,
   "metadata": {},
   "outputs": [
    {
     "data": {
      "text/html": [
       "<div>\n",
       "<style scoped>\n",
       "    .dataframe tbody tr th:only-of-type {\n",
       "        vertical-align: middle;\n",
       "    }\n",
       "\n",
       "    .dataframe tbody tr th {\n",
       "        vertical-align: top;\n",
       "    }\n",
       "\n",
       "    .dataframe thead th {\n",
       "        text-align: right;\n",
       "    }\n",
       "</style>\n",
       "<table border=\"1\" class=\"dataframe\">\n",
       "  <thead>\n",
       "    <tr style=\"text-align: right;\">\n",
       "      <th></th>\n",
       "      <th>Id</th>\n",
       "      <th>OwnerUserId</th>\n",
       "      <th>CreationDate</th>\n",
       "      <th>ClosedDate</th>\n",
       "      <th>Score</th>\n",
       "      <th>Title</th>\n",
       "      <th>Body</th>\n",
       "      <th>Tag</th>\n",
       "      <th>tag_count</th>\n",
       "    </tr>\n",
       "  </thead>\n",
       "  <tbody>\n",
       "    <tr>\n",
       "      <td>0</td>\n",
       "      <td>260</td>\n",
       "      <td>91.0</td>\n",
       "      <td>2008-08-01T23:22:08Z</td>\n",
       "      <td>NaN</td>\n",
       "      <td>49</td>\n",
       "      <td>Adding scripting functionality to .NET applica...</td>\n",
       "      <td>&lt;p&gt;I have a little game written in C#. It uses...</td>\n",
       "      <td>c#</td>\n",
       "      <td>1</td>\n",
       "    </tr>\n",
       "    <tr>\n",
       "      <td>1</td>\n",
       "      <td>330</td>\n",
       "      <td>63.0</td>\n",
       "      <td>2008-08-02T02:51:36Z</td>\n",
       "      <td>NaN</td>\n",
       "      <td>29</td>\n",
       "      <td>Should I use nested classes in this case?</td>\n",
       "      <td>&lt;p&gt;I am working on a collection of classes use...</td>\n",
       "      <td>c++</td>\n",
       "      <td>1</td>\n",
       "    </tr>\n",
       "    <tr>\n",
       "      <td>2</td>\n",
       "      <td>650</td>\n",
       "      <td>143.0</td>\n",
       "      <td>2008-08-03T11:12:52Z</td>\n",
       "      <td>NaN</td>\n",
       "      <td>79</td>\n",
       "      <td>Automatically update version number</td>\n",
       "      <td>&lt;p&gt;I would like the version property of my app...</td>\n",
       "      <td>c#</td>\n",
       "      <td>1</td>\n",
       "    </tr>\n",
       "    <tr>\n",
       "      <td>3</td>\n",
       "      <td>930</td>\n",
       "      <td>245.0</td>\n",
       "      <td>2008-08-04T00:47:25Z</td>\n",
       "      <td>NaN</td>\n",
       "      <td>28</td>\n",
       "      <td>How do I connect to a database and loop over a...</td>\n",
       "      <td>&lt;p&gt;What's the simplest way to connect and quer...</td>\n",
       "      <td>c#</td>\n",
       "      <td>1</td>\n",
       "    </tr>\n",
       "    <tr>\n",
       "      <td>4</td>\n",
       "      <td>1010</td>\n",
       "      <td>67.0</td>\n",
       "      <td>2008-08-04T03:59:42Z</td>\n",
       "      <td>NaN</td>\n",
       "      <td>14</td>\n",
       "      <td>How to get the value of built, encoded ViewState?</td>\n",
       "      <td>&lt;p&gt;I need to grab the base64-encoded represent...</td>\n",
       "      <td>c#</td>\n",
       "      <td>1</td>\n",
       "    </tr>\n",
       "  </tbody>\n",
       "</table>\n",
       "</div>"
      ],
      "text/plain": [
       "     Id  OwnerUserId          CreationDate ClosedDate  Score  \\\n",
       "0   260         91.0  2008-08-01T23:22:08Z        NaN     49   \n",
       "1   330         63.0  2008-08-02T02:51:36Z        NaN     29   \n",
       "2   650        143.0  2008-08-03T11:12:52Z        NaN     79   \n",
       "3   930        245.0  2008-08-04T00:47:25Z        NaN     28   \n",
       "4  1010         67.0  2008-08-04T03:59:42Z        NaN     14   \n",
       "\n",
       "                                               Title  \\\n",
       "0  Adding scripting functionality to .NET applica...   \n",
       "1          Should I use nested classes in this case?   \n",
       "2                Automatically update version number   \n",
       "3  How do I connect to a database and loop over a...   \n",
       "4  How to get the value of built, encoded ViewState?   \n",
       "\n",
       "                                                Body  Tag  tag_count  \n",
       "0  <p>I have a little game written in C#. It uses...   c#          1  \n",
       "1  <p>I am working on a collection of classes use...  c++          1  \n",
       "2  <p>I would like the version property of my app...   c#          1  \n",
       "3  <p>What's the simplest way to connect and quer...   c#          1  \n",
       "4  <p>I need to grab the base64-encoded represent...   c#          1  "
      ]
     },
     "execution_count": 209,
     "metadata": {},
     "output_type": "execute_result"
    }
   ],
   "source": [
    "mcml_qt.head()"
   ]
  },
  {
   "cell_type": "code",
   "execution_count": 210,
   "metadata": {},
   "outputs": [],
   "source": [
    "mcml_qt[\"Question\"] = mcml_qt[[\"Title\", \"Body\"]].apply(lambda x: ' '.join(x), axis = 1) "
   ]
  },
  {
   "cell_type": "code",
   "execution_count": 211,
   "metadata": {},
   "outputs": [
    {
     "data": {
      "text/html": [
       "<div>\n",
       "<style scoped>\n",
       "    .dataframe tbody tr th:only-of-type {\n",
       "        vertical-align: middle;\n",
       "    }\n",
       "\n",
       "    .dataframe tbody tr th {\n",
       "        vertical-align: top;\n",
       "    }\n",
       "\n",
       "    .dataframe thead th {\n",
       "        text-align: right;\n",
       "    }\n",
       "</style>\n",
       "<table border=\"1\" class=\"dataframe\">\n",
       "  <thead>\n",
       "    <tr style=\"text-align: right;\">\n",
       "      <th></th>\n",
       "      <th>Id</th>\n",
       "      <th>OwnerUserId</th>\n",
       "      <th>CreationDate</th>\n",
       "      <th>ClosedDate</th>\n",
       "      <th>Score</th>\n",
       "      <th>Title</th>\n",
       "      <th>Body</th>\n",
       "      <th>Tag</th>\n",
       "      <th>tag_count</th>\n",
       "      <th>Question</th>\n",
       "    </tr>\n",
       "  </thead>\n",
       "  <tbody>\n",
       "    <tr>\n",
       "      <td>0</td>\n",
       "      <td>260</td>\n",
       "      <td>91.0</td>\n",
       "      <td>2008-08-01T23:22:08Z</td>\n",
       "      <td>NaN</td>\n",
       "      <td>49</td>\n",
       "      <td>Adding scripting functionality to .NET applica...</td>\n",
       "      <td>&lt;p&gt;I have a little game written in C#. It uses...</td>\n",
       "      <td>c#</td>\n",
       "      <td>1</td>\n",
       "      <td>Adding scripting functionality to .NET applica...</td>\n",
       "    </tr>\n",
       "    <tr>\n",
       "      <td>1</td>\n",
       "      <td>330</td>\n",
       "      <td>63.0</td>\n",
       "      <td>2008-08-02T02:51:36Z</td>\n",
       "      <td>NaN</td>\n",
       "      <td>29</td>\n",
       "      <td>Should I use nested classes in this case?</td>\n",
       "      <td>&lt;p&gt;I am working on a collection of classes use...</td>\n",
       "      <td>c++</td>\n",
       "      <td>1</td>\n",
       "      <td>Should I use nested classes in this case? &lt;p&gt;I...</td>\n",
       "    </tr>\n",
       "    <tr>\n",
       "      <td>2</td>\n",
       "      <td>650</td>\n",
       "      <td>143.0</td>\n",
       "      <td>2008-08-03T11:12:52Z</td>\n",
       "      <td>NaN</td>\n",
       "      <td>79</td>\n",
       "      <td>Automatically update version number</td>\n",
       "      <td>&lt;p&gt;I would like the version property of my app...</td>\n",
       "      <td>c#</td>\n",
       "      <td>1</td>\n",
       "      <td>Automatically update version number &lt;p&gt;I would...</td>\n",
       "    </tr>\n",
       "    <tr>\n",
       "      <td>3</td>\n",
       "      <td>930</td>\n",
       "      <td>245.0</td>\n",
       "      <td>2008-08-04T00:47:25Z</td>\n",
       "      <td>NaN</td>\n",
       "      <td>28</td>\n",
       "      <td>How do I connect to a database and loop over a...</td>\n",
       "      <td>&lt;p&gt;What's the simplest way to connect and quer...</td>\n",
       "      <td>c#</td>\n",
       "      <td>1</td>\n",
       "      <td>How do I connect to a database and loop over a...</td>\n",
       "    </tr>\n",
       "    <tr>\n",
       "      <td>4</td>\n",
       "      <td>1010</td>\n",
       "      <td>67.0</td>\n",
       "      <td>2008-08-04T03:59:42Z</td>\n",
       "      <td>NaN</td>\n",
       "      <td>14</td>\n",
       "      <td>How to get the value of built, encoded ViewState?</td>\n",
       "      <td>&lt;p&gt;I need to grab the base64-encoded represent...</td>\n",
       "      <td>c#</td>\n",
       "      <td>1</td>\n",
       "      <td>How to get the value of built, encoded ViewSta...</td>\n",
       "    </tr>\n",
       "  </tbody>\n",
       "</table>\n",
       "</div>"
      ],
      "text/plain": [
       "     Id  OwnerUserId          CreationDate ClosedDate  Score  \\\n",
       "0   260         91.0  2008-08-01T23:22:08Z        NaN     49   \n",
       "1   330         63.0  2008-08-02T02:51:36Z        NaN     29   \n",
       "2   650        143.0  2008-08-03T11:12:52Z        NaN     79   \n",
       "3   930        245.0  2008-08-04T00:47:25Z        NaN     28   \n",
       "4  1010         67.0  2008-08-04T03:59:42Z        NaN     14   \n",
       "\n",
       "                                               Title  \\\n",
       "0  Adding scripting functionality to .NET applica...   \n",
       "1          Should I use nested classes in this case?   \n",
       "2                Automatically update version number   \n",
       "3  How do I connect to a database and loop over a...   \n",
       "4  How to get the value of built, encoded ViewState?   \n",
       "\n",
       "                                                Body  Tag  tag_count  \\\n",
       "0  <p>I have a little game written in C#. It uses...   c#          1   \n",
       "1  <p>I am working on a collection of classes use...  c++          1   \n",
       "2  <p>I would like the version property of my app...   c#          1   \n",
       "3  <p>What's the simplest way to connect and quer...   c#          1   \n",
       "4  <p>I need to grab the base64-encoded represent...   c#          1   \n",
       "\n",
       "                                            Question  \n",
       "0  Adding scripting functionality to .NET applica...  \n",
       "1  Should I use nested classes in this case? <p>I...  \n",
       "2  Automatically update version number <p>I would...  \n",
       "3  How do I connect to a database and loop over a...  \n",
       "4  How to get the value of built, encoded ViewSta...  "
      ]
     },
     "execution_count": 211,
     "metadata": {},
     "output_type": "execute_result"
    }
   ],
   "source": [
    "mcml_qt.head()"
   ]
  },
  {
   "cell_type": "code",
   "execution_count": 212,
   "metadata": {},
   "outputs": [],
   "source": [
    "mcml_qt.drop(['OwnerUserId','CreationDate','ClosedDate','Score','Title','Body'],axis=1, inplace=True)"
   ]
  },
  {
   "cell_type": "code",
   "execution_count": 213,
   "metadata": {},
   "outputs": [
    {
     "data": {
      "text/html": [
       "<div>\n",
       "<style scoped>\n",
       "    .dataframe tbody tr th:only-of-type {\n",
       "        vertical-align: middle;\n",
       "    }\n",
       "\n",
       "    .dataframe tbody tr th {\n",
       "        vertical-align: top;\n",
       "    }\n",
       "\n",
       "    .dataframe thead th {\n",
       "        text-align: right;\n",
       "    }\n",
       "</style>\n",
       "<table border=\"1\" class=\"dataframe\">\n",
       "  <thead>\n",
       "    <tr style=\"text-align: right;\">\n",
       "      <th></th>\n",
       "      <th>Id</th>\n",
       "      <th>Tag</th>\n",
       "      <th>tag_count</th>\n",
       "      <th>Question</th>\n",
       "    </tr>\n",
       "  </thead>\n",
       "  <tbody>\n",
       "    <tr>\n",
       "      <td>0</td>\n",
       "      <td>260</td>\n",
       "      <td>c#</td>\n",
       "      <td>1</td>\n",
       "      <td>Adding scripting functionality to .NET applica...</td>\n",
       "    </tr>\n",
       "    <tr>\n",
       "      <td>1</td>\n",
       "      <td>330</td>\n",
       "      <td>c++</td>\n",
       "      <td>1</td>\n",
       "      <td>Should I use nested classes in this case? &lt;p&gt;I...</td>\n",
       "    </tr>\n",
       "    <tr>\n",
       "      <td>2</td>\n",
       "      <td>650</td>\n",
       "      <td>c#</td>\n",
       "      <td>1</td>\n",
       "      <td>Automatically update version number &lt;p&gt;I would...</td>\n",
       "    </tr>\n",
       "    <tr>\n",
       "      <td>3</td>\n",
       "      <td>930</td>\n",
       "      <td>c#</td>\n",
       "      <td>1</td>\n",
       "      <td>How do I connect to a database and loop over a...</td>\n",
       "    </tr>\n",
       "    <tr>\n",
       "      <td>4</td>\n",
       "      <td>1010</td>\n",
       "      <td>c#</td>\n",
       "      <td>1</td>\n",
       "      <td>How to get the value of built, encoded ViewSta...</td>\n",
       "    </tr>\n",
       "  </tbody>\n",
       "</table>\n",
       "</div>"
      ],
      "text/plain": [
       "     Id  Tag  tag_count                                           Question\n",
       "0   260   c#          1  Adding scripting functionality to .NET applica...\n",
       "1   330  c++          1  Should I use nested classes in this case? <p>I...\n",
       "2   650   c#          1  Automatically update version number <p>I would...\n",
       "3   930   c#          1  How do I connect to a database and loop over a...\n",
       "4  1010   c#          1  How to get the value of built, encoded ViewSta..."
      ]
     },
     "execution_count": 213,
     "metadata": {},
     "output_type": "execute_result"
    }
   ],
   "source": [
    "mcml_qt.head()"
   ]
  },
  {
   "cell_type": "code",
   "execution_count": 214,
   "metadata": {},
   "outputs": [
    {
     "data": {
      "text/plain": [
       "'Adding scripting functionality to .NET applications <p>I have a little game written in C#. It uses a database as back-end. It\\'s \\na <a href=\"http://en.wikipedia.org/wiki/Collectible_card_game\">trading card game</a>, and I wanted to implement the function of the cards as a script.</p>\\n\\n<p>What I mean is that I essentially have an interface, <code>ICard</code>, which a card class implements (<code>public class Card056 : ICard</code>) and which contains function that are called by the game.</p>\\n\\n<p>Now, to make the thing maintainable/moddable, I would like to have the class for each card as source code in the database and essentially compile it on first use. So when I have to add/change a card, I\\'ll just add it to the database and tell my application to refresh, without needing any assembly deployment (especially since we would be talking about 1 assembly per card which means hundreds of assemblies).</p>\\n\\n<p>Is that possible? Register a class from a source file and then instantiate it, etc.</p>\\n\\n<pre><code>ICard Cards[current] = new MyGame.CardLibrary.Card056();\\nCards[current].OnEnterPlay(ref currentGameState);\\n</code></pre>\\n\\n<p>The language is C#, but extra bonus if it\\'s possible to write the script in any .NET language.</p>\\n'"
      ]
     },
     "execution_count": 214,
     "metadata": {},
     "output_type": "execute_result"
    }
   ],
   "source": [
    "mcml_qt[\"Question\"][0]"
   ]
  },
  {
   "cell_type": "code",
   "execution_count": 215,
   "metadata": {},
   "outputs": [],
   "source": [
    "mcml_qt[\"Question\"]=mcml_qt[\"Question\"].apply(preprocess)"
   ]
  },
  {
   "cell_type": "code",
   "execution_count": 216,
   "metadata": {},
   "outputs": [
    {
     "data": {
      "text/html": [
       "<div>\n",
       "<style scoped>\n",
       "    .dataframe tbody tr th:only-of-type {\n",
       "        vertical-align: middle;\n",
       "    }\n",
       "\n",
       "    .dataframe tbody tr th {\n",
       "        vertical-align: top;\n",
       "    }\n",
       "\n",
       "    .dataframe thead th {\n",
       "        text-align: right;\n",
       "    }\n",
       "</style>\n",
       "<table border=\"1\" class=\"dataframe\">\n",
       "  <thead>\n",
       "    <tr style=\"text-align: right;\">\n",
       "      <th></th>\n",
       "      <th>Id</th>\n",
       "      <th>Tag</th>\n",
       "      <th>tag_count</th>\n",
       "      <th>Question</th>\n",
       "    </tr>\n",
       "  </thead>\n",
       "  <tbody>\n",
       "    <tr>\n",
       "      <td>0</td>\n",
       "      <td>260</td>\n",
       "      <td>c#</td>\n",
       "      <td>1</td>\n",
       "      <td>ad script function .net applic &lt;p&gt;i littl game...</td>\n",
       "    </tr>\n",
       "    <tr>\n",
       "      <td>1</td>\n",
       "      <td>330</td>\n",
       "      <td>c++</td>\n",
       "      <td>1</td>\n",
       "      <td>use nest class case? &lt;p&gt;i work collect class u...</td>\n",
       "    </tr>\n",
       "    <tr>\n",
       "      <td>2</td>\n",
       "      <td>650</td>\n",
       "      <td>c#</td>\n",
       "      <td>1</td>\n",
       "      <td>automat updat version number &lt;p&gt;i would like v...</td>\n",
       "    </tr>\n",
       "    <tr>\n",
       "      <td>3</td>\n",
       "      <td>930</td>\n",
       "      <td>c#</td>\n",
       "      <td>1</td>\n",
       "      <td>connect databas loop recordset c#? &lt;p&gt;what sim...</td>\n",
       "    </tr>\n",
       "    <tr>\n",
       "      <td>4</td>\n",
       "      <td>1010</td>\n",
       "      <td>c#</td>\n",
       "      <td>1</td>\n",
       "      <td>get valu built, encod viewstate? &lt;p&gt;i need gra...</td>\n",
       "    </tr>\n",
       "  </tbody>\n",
       "</table>\n",
       "</div>"
      ],
      "text/plain": [
       "     Id  Tag  tag_count                                           Question\n",
       "0   260   c#          1  ad script function .net applic <p>i littl game...\n",
       "1   330  c++          1  use nest class case? <p>i work collect class u...\n",
       "2   650   c#          1  automat updat version number <p>i would like v...\n",
       "3   930   c#          1  connect databas loop recordset c#? <p>what sim...\n",
       "4  1010   c#          1  get valu built, encod viewstate? <p>i need gra..."
      ]
     },
     "execution_count": 216,
     "metadata": {},
     "output_type": "execute_result"
    }
   ],
   "source": [
    "mcml_qt.head()\n"
   ]
  },
  {
   "cell_type": "code",
   "execution_count": 217,
   "metadata": {},
   "outputs": [],
   "source": [
    "mcml_qt[\"Question\"]=mcml_qt[\"Question\"].apply(cleanpunc)"
   ]
  },
  {
   "cell_type": "code",
   "execution_count": 218,
   "metadata": {},
   "outputs": [
    {
     "data": {
      "text/plain": [
       "0    ad script function  net applic <p>i littl game...\n",
       "1    use nest class case <p>i work collect class us...\n",
       "2    automat updat version number <p>i would like v...\n",
       "3    connect databas loop recordset c# <p>what simp...\n",
       "4    get valu built  encod viewstate <p>i need grab...\n",
       "Name: Question, dtype: object"
      ]
     },
     "execution_count": 218,
     "metadata": {},
     "output_type": "execute_result"
    }
   ],
   "source": [
    "mcml_qt[\"Question\"].head()"
   ]
  },
  {
   "cell_type": "code",
   "execution_count": 219,
   "metadata": {},
   "outputs": [],
   "source": [
    "mcml_qt[\"Question\"]=mcml_qt['Question'].apply(cleanlink)"
   ]
  },
  {
   "cell_type": "code",
   "execution_count": 220,
   "metadata": {},
   "outputs": [
    {
     "data": {
      "text/html": [
       "<div>\n",
       "<style scoped>\n",
       "    .dataframe tbody tr th:only-of-type {\n",
       "        vertical-align: middle;\n",
       "    }\n",
       "\n",
       "    .dataframe tbody tr th {\n",
       "        vertical-align: top;\n",
       "    }\n",
       "\n",
       "    .dataframe thead th {\n",
       "        text-align: right;\n",
       "    }\n",
       "</style>\n",
       "<table border=\"1\" class=\"dataframe\">\n",
       "  <thead>\n",
       "    <tr style=\"text-align: right;\">\n",
       "      <th></th>\n",
       "      <th>Id</th>\n",
       "      <th>Tag</th>\n",
       "      <th>tag_count</th>\n",
       "      <th>Question</th>\n",
       "    </tr>\n",
       "  </thead>\n",
       "  <tbody>\n",
       "    <tr>\n",
       "      <td>0</td>\n",
       "      <td>260</td>\n",
       "      <td>c#</td>\n",
       "      <td>1</td>\n",
       "      <td>ad script function  net applic &lt;p&gt;i littl game...</td>\n",
       "    </tr>\n",
       "    <tr>\n",
       "      <td>1</td>\n",
       "      <td>330</td>\n",
       "      <td>c++</td>\n",
       "      <td>1</td>\n",
       "      <td>use nest class case &lt;p&gt;i work collect class us...</td>\n",
       "    </tr>\n",
       "    <tr>\n",
       "      <td>2</td>\n",
       "      <td>650</td>\n",
       "      <td>c#</td>\n",
       "      <td>1</td>\n",
       "      <td>automat updat version number &lt;p&gt;i would like v...</td>\n",
       "    </tr>\n",
       "    <tr>\n",
       "      <td>3</td>\n",
       "      <td>930</td>\n",
       "      <td>c#</td>\n",
       "      <td>1</td>\n",
       "      <td>connect databas loop recordset c# &lt;p&gt;what simp...</td>\n",
       "    </tr>\n",
       "    <tr>\n",
       "      <td>4</td>\n",
       "      <td>1010</td>\n",
       "      <td>c#</td>\n",
       "      <td>1</td>\n",
       "      <td>get valu built  encod viewstate &lt;p&gt;i need grab...</td>\n",
       "    </tr>\n",
       "  </tbody>\n",
       "</table>\n",
       "</div>"
      ],
      "text/plain": [
       "     Id  Tag  tag_count                                           Question\n",
       "0   260   c#          1  ad script function  net applic <p>i littl game...\n",
       "1   330  c++          1  use nest class case <p>i work collect class us...\n",
       "2   650   c#          1  automat updat version number <p>i would like v...\n",
       "3   930   c#          1  connect databas loop recordset c# <p>what simp...\n",
       "4  1010   c#          1  get valu built  encod viewstate <p>i need grab..."
      ]
     },
     "execution_count": 220,
     "metadata": {},
     "output_type": "execute_result"
    }
   ],
   "source": [
    "mcml_qt.head()"
   ]
  },
  {
   "cell_type": "code",
   "execution_count": 222,
   "metadata": {},
   "outputs": [],
   "source": [
    "striphtml(mcml_qt)"
   ]
  },
  {
   "cell_type": "code",
   "execution_count": 224,
   "metadata": {},
   "outputs": [
    {
     "data": {
      "text/plain": [
       "(     Id  Tag  tag_count                                           Question\n",
       " 0   260   c#          1  ad script function  net applic i littl game wr...\n",
       " 1   330  c++          1  use nest class case i work collect class use v...\n",
       " 2   650   c#          1  automat updat version number i would like vers...\n",
       " 3   930   c#          1  connect databas loop recordset c# what simples...\n",
       " 4  1010   c#          1  get valu built  encod viewstate i need grab ba...,\n",
       " 'ad script function  net applic i littl game written c#  use databas back-end  trad card game  want implement function card script  what mean essenti interface  icard  card class implement  publ class card056 icard  contain function call game  now  make thing maintainable moddable  would like class card sourc code databas essenti compil first use  add chang card  add databas tell applic refresh  without need assembl deploy  especi sinc would talk assembl per card mean hundr assemblies   is possible regist class sourc file instanti it  etc  icard cards[current] new mygame cardlibrary card056  ; cards[current] onenterplay ref currentgamestate ;  the languag c#  extra bonus possibl write script  net language ')"
      ]
     },
     "execution_count": 224,
     "metadata": {},
     "output_type": "execute_result"
    }
   ],
   "source": [
    "mcml_qt.head(),mcml_qt[\"Question\"][0]\n"
   ]
  },
  {
   "cell_type": "code",
   "execution_count": 228,
   "metadata": {},
   "outputs": [],
   "source": [
    "qt=list(zip(mcml_qt['Question'],mcml_qt['Tag']))\n",
    "mcml_final=pd.DataFrame(qt, columns=['Question','Tags'])"
   ]
  },
  {
   "cell_type": "code",
   "execution_count": 229,
   "metadata": {},
   "outputs": [
    {
     "data": {
      "text/html": [
       "<div>\n",
       "<style scoped>\n",
       "    .dataframe tbody tr th:only-of-type {\n",
       "        vertical-align: middle;\n",
       "    }\n",
       "\n",
       "    .dataframe tbody tr th {\n",
       "        vertical-align: top;\n",
       "    }\n",
       "\n",
       "    .dataframe thead th {\n",
       "        text-align: right;\n",
       "    }\n",
       "</style>\n",
       "<table border=\"1\" class=\"dataframe\">\n",
       "  <thead>\n",
       "    <tr style=\"text-align: right;\">\n",
       "      <th></th>\n",
       "      <th>Question</th>\n",
       "      <th>Tags</th>\n",
       "    </tr>\n",
       "  </thead>\n",
       "  <tbody>\n",
       "    <tr>\n",
       "      <td>0</td>\n",
       "      <td>ad script function  net applic i littl game wr...</td>\n",
       "      <td>c#</td>\n",
       "    </tr>\n",
       "    <tr>\n",
       "      <td>1</td>\n",
       "      <td>use nest class case i work collect class use v...</td>\n",
       "      <td>c++</td>\n",
       "    </tr>\n",
       "    <tr>\n",
       "      <td>2</td>\n",
       "      <td>automat updat version number i would like vers...</td>\n",
       "      <td>c#</td>\n",
       "    </tr>\n",
       "    <tr>\n",
       "      <td>3</td>\n",
       "      <td>connect databas loop recordset c# what simples...</td>\n",
       "      <td>c#</td>\n",
       "    </tr>\n",
       "    <tr>\n",
       "      <td>4</td>\n",
       "      <td>get valu built  encod viewstate i need grab ba...</td>\n",
       "      <td>c#</td>\n",
       "    </tr>\n",
       "  </tbody>\n",
       "</table>\n",
       "</div>"
      ],
      "text/plain": [
       "                                            Question Tags\n",
       "0  ad script function  net applic i littl game wr...   c#\n",
       "1  use nest class case i work collect class use v...  c++\n",
       "2  automat updat version number i would like vers...   c#\n",
       "3  connect databas loop recordset c# what simples...   c#\n",
       "4  get valu built  encod viewstate i need grab ba...   c#"
      ]
     },
     "execution_count": 229,
     "metadata": {},
     "output_type": "execute_result"
    }
   ],
   "source": [
    "mcml_final.head()"
   ]
  },
  {
   "cell_type": "code",
   "execution_count": 230,
   "metadata": {},
   "outputs": [],
   "source": [
    "mcml_final.to_csv('mcml_final.csv')"
   ]
  }
 ],
 "metadata": {
  "kernelspec": {
   "display_name": "Python 3",
   "language": "python",
   "name": "python3"
  },
  "language_info": {
   "codemirror_mode": {
    "name": "ipython",
    "version": 3
   },
   "file_extension": ".py",
   "mimetype": "text/x-python",
   "name": "python",
   "nbconvert_exporter": "python",
   "pygments_lexer": "ipython3",
   "version": "3.7.4"
  },
  "widgets": {
   "application/vnd.jupyter.widget-state+json": {
    "state": {},
    "version_major": 2,
    "version_minor": 0
   }
  }
 },
 "nbformat": 4,
 "nbformat_minor": 2
}
